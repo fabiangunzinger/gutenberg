{
 "cells": [
  {
   "cell_type": "markdown",
   "id": "996e6bc6-e1b1-4b82-962e-141b722451ea",
   "metadata": {},
   "source": [
    "The plan:\n",
    "\n",
    "- Scrape books from [Project Gutenberg](https://www.gutenberg.org/browse/scores/top)\n",
    "\n",
    "- Clean and preprocess\n",
    "\n",
    "- Do basic NLP analysis using [TextBlob](https://textblob.readthedocs.io/en/dev/)\n",
    "\n",
    "Useful links and sources:\n",
    "\n",
    "- [Gutenberg api](https://github.com/c-w/gutenberg)\n",
    "\n",
    "- [Scrape, clean, and normalize Gutenberg texts](https://shravan-kuchkula.github.io/scrape_clean_normalize_gutenberg_text/#)\n",
    "\n",
    "- Think Python chapter 13"
   ]
  },
  {
   "cell_type": "markdown",
   "id": "56f008cb-06bf-43a0-8514-dae3125615ad",
   "metadata": {},
   "source": [
    "# Scrape books from Project Gutenberg"
   ]
  },
  {
   "cell_type": "code",
   "execution_count": 1,
   "id": "0ac202ff-f436-47d9-8d3a-86ac15bab5da",
   "metadata": {},
   "outputs": [],
   "source": [
    "html_doc = \"\"\"<html><head><title>The Dormouse's story</title></head>\n",
    "<body>\n",
    "<p class=\"title\"><b>The Dormouse's story</b></p>\n",
    "\n",
    "<p class=\"story\">Once upon a time there were three little sisters; and their names were\n",
    "<a href=\"http://example.com/elsie\" class=\"sister\" id=\"link1\">Elsie</a>,\n",
    "<a href=\"http://example.com/lacie\" class=\"sister\" id=\"link2\">Lacie</a> and\n",
    "<a href=\"http://example.com/tillie\" class=\"sister\" id=\"link3\">Tillie</a>;\n",
    "and they lived at the bottom of a well.</p>\n",
    "\n",
    "<p class=\"story\">...</p>\n",
    "\"\"\""
   ]
  },
  {
   "cell_type": "code",
   "execution_count": 70,
   "id": "2845e9a7-ef93-4542-a7e3-f869e78c9e07",
   "metadata": {},
   "outputs": [],
   "source": [
    "import re\n",
    "import requests\n",
    "\n",
    "\n",
    "url = 'https://www.gutenberg.org/browse/scores/top#books-last30'\n",
    "selection = 'Top 100 EBooks last 30 days'\n",
    "ebook_root_url = 'https://www.gutenberg.org/'\n",
    "\n",
    "# make url request and save response\n",
    "response = requests.get(url)\n",
    "\n",
    "# extract source text\n",
    "source = response.text\n",
    "\n",
    "# create BeautifulSoup object\n",
    "soup = BeautifulSoup(source, 'html.parser')\n",
    "\n",
    "# get a-tags for selected books\n",
    "tags = soup.find('h2', string=selection).find_all_next('a', limit=100)"
   ]
  },
  {
   "cell_type": "code",
   "execution_count": 73,
   "id": "f97ed0ca-c32b-49a5-aec9-9ac0ad6bf05a",
   "metadata": {},
   "outputs": [
    {
     "ename": "TypeError",
     "evalue": "object of type 'Response' has no len()",
     "output_type": "error",
     "traceback": [
      "\u001b[0;31m---------------------------------------------------------------------------\u001b[0m",
      "\u001b[0;31mTypeError\u001b[0m                                 Traceback (most recent call last)",
      "\u001b[0;32m<ipython-input-73-a84f05d994e5>\u001b[0m in \u001b[0;36m<module>\u001b[0;34m\u001b[0m\n\u001b[1;32m      3\u001b[0m \u001b[0;34m\u001b[0m\u001b[0m\n\u001b[1;32m      4\u001b[0m \u001b[0;31m# make BeautifulSoup object for each book\u001b[0m\u001b[0;34m\u001b[0m\u001b[0;34m\u001b[0m\u001b[0;34m\u001b[0m\u001b[0m\n\u001b[0;32m----> 5\u001b[0;31m \u001b[0msoups\u001b[0m \u001b[0;34m=\u001b[0m \u001b[0;34m[\u001b[0m\u001b[0mBeautifulSoup\u001b[0m\u001b[0;34m(\u001b[0m\u001b[0mrequests\u001b[0m\u001b[0;34m.\u001b[0m\u001b[0mget\u001b[0m\u001b[0;34m(\u001b[0m\u001b[0murl\u001b[0m\u001b[0;34m,\u001b[0m \u001b[0;34m'html.parser'\u001b[0m\u001b[0;34m)\u001b[0m\u001b[0;34m)\u001b[0m\u001b[0;34m.\u001b[0m\u001b[0mtext\u001b[0m \u001b[0;32mfor\u001b[0m \u001b[0murl\u001b[0m \u001b[0;32min\u001b[0m \u001b[0murls\u001b[0m\u001b[0;34m]\u001b[0m\u001b[0;34m\u001b[0m\u001b[0;34m\u001b[0m\u001b[0m\n\u001b[0m",
      "\u001b[0;32m<ipython-input-73-a84f05d994e5>\u001b[0m in \u001b[0;36m<listcomp>\u001b[0;34m(.0)\u001b[0m\n\u001b[1;32m      3\u001b[0m \u001b[0;34m\u001b[0m\u001b[0m\n\u001b[1;32m      4\u001b[0m \u001b[0;31m# make BeautifulSoup object for each book\u001b[0m\u001b[0;34m\u001b[0m\u001b[0;34m\u001b[0m\u001b[0;34m\u001b[0m\u001b[0m\n\u001b[0;32m----> 5\u001b[0;31m \u001b[0msoups\u001b[0m \u001b[0;34m=\u001b[0m \u001b[0;34m[\u001b[0m\u001b[0mBeautifulSoup\u001b[0m\u001b[0;34m(\u001b[0m\u001b[0mrequests\u001b[0m\u001b[0;34m.\u001b[0m\u001b[0mget\u001b[0m\u001b[0;34m(\u001b[0m\u001b[0murl\u001b[0m\u001b[0;34m,\u001b[0m \u001b[0;34m'html.parser'\u001b[0m\u001b[0;34m)\u001b[0m\u001b[0;34m)\u001b[0m\u001b[0;34m.\u001b[0m\u001b[0mtext\u001b[0m \u001b[0;32mfor\u001b[0m \u001b[0murl\u001b[0m \u001b[0;32min\u001b[0m \u001b[0murls\u001b[0m\u001b[0;34m]\u001b[0m\u001b[0;34m\u001b[0m\u001b[0;34m\u001b[0m\u001b[0m\n\u001b[0m",
      "\u001b[0;32m~/miniconda3/lib/python3.7/site-packages/bs4/__init__.py\u001b[0m in \u001b[0;36m__init__\u001b[0;34m(self, markup, features, builder, parse_only, from_encoding, exclude_encodings, element_classes, **kwargs)\u001b[0m\n\u001b[1;32m    308\u001b[0m         \u001b[0;32mif\u001b[0m \u001b[0mhasattr\u001b[0m\u001b[0;34m(\u001b[0m\u001b[0mmarkup\u001b[0m\u001b[0;34m,\u001b[0m \u001b[0;34m'read'\u001b[0m\u001b[0;34m)\u001b[0m\u001b[0;34m:\u001b[0m        \u001b[0;31m# It's a file-type object.\u001b[0m\u001b[0;34m\u001b[0m\u001b[0;34m\u001b[0m\u001b[0m\n\u001b[1;32m    309\u001b[0m             \u001b[0mmarkup\u001b[0m \u001b[0;34m=\u001b[0m \u001b[0mmarkup\u001b[0m\u001b[0;34m.\u001b[0m\u001b[0mread\u001b[0m\u001b[0;34m(\u001b[0m\u001b[0;34m)\u001b[0m\u001b[0;34m\u001b[0m\u001b[0;34m\u001b[0m\u001b[0m\n\u001b[0;32m--> 310\u001b[0;31m         elif len(markup) <= 256 and (\n\u001b[0m\u001b[1;32m    311\u001b[0m                 \u001b[0;34m(\u001b[0m\u001b[0misinstance\u001b[0m\u001b[0;34m(\u001b[0m\u001b[0mmarkup\u001b[0m\u001b[0;34m,\u001b[0m \u001b[0mbytes\u001b[0m\u001b[0;34m)\u001b[0m \u001b[0;32mand\u001b[0m \u001b[0;32mnot\u001b[0m \u001b[0;34mb'<'\u001b[0m \u001b[0;32min\u001b[0m \u001b[0mmarkup\u001b[0m\u001b[0;34m)\u001b[0m\u001b[0;34m\u001b[0m\u001b[0;34m\u001b[0m\u001b[0m\n\u001b[1;32m    312\u001b[0m                 \u001b[0;32mor\u001b[0m \u001b[0;34m(\u001b[0m\u001b[0misinstance\u001b[0m\u001b[0;34m(\u001b[0m\u001b[0mmarkup\u001b[0m\u001b[0;34m,\u001b[0m \u001b[0mstr\u001b[0m\u001b[0;34m)\u001b[0m \u001b[0;32mand\u001b[0m \u001b[0;32mnot\u001b[0m \u001b[0;34m'<'\u001b[0m \u001b[0;32min\u001b[0m \u001b[0mmarkup\u001b[0m\u001b[0;34m)\u001b[0m\u001b[0;34m\u001b[0m\u001b[0;34m\u001b[0m\u001b[0m\n",
      "\u001b[0;31mTypeError\u001b[0m: object of type 'Response' has no len()"
     ]
    }
   ],
   "source": [
    "# get book urls\n",
    "urls = [ebook_root_url + tag.attrs['href'] for tag in tags]\n",
    "\n",
    "# make BeautifulSoup object for each book\n",
    "soups = [BeautifulSoup(requests.get(url, 'html.parser')).text for url in urls]"
   ]
  },
  {
   "cell_type": "code",
   "execution_count": 79,
   "id": "bd76990f-47f7-481c-88d7-a4bb765bef72",
   "metadata": {},
   "outputs": [
    {
     "data": {
      "text/plain": [
       "['<!DOCTYPE html>\\n<!--\\nDON\\'T USE THIS PAGE FOR SCRAPING.\\nSeriously. You\\'ll only get your IP blocked.\\nRead http://www.gutenberg.org/feeds/ to learn how to download Project\\nGutenberg metadata much faster than by scraping.\\n--><html lang=\"en\">\\n\\n\\n\\n\\n<head>\\n<style>\\n.icon   { background: transparent url(/pics/sprite.png) 0 0 no-repeat; }\\n</style>\\n<link rel=\"stylesheet\" type=\"text/css\" href=\"/gutenberg/pg-desktop-one.css\">\\n<link rel=\"stylesheet\" type=\"text/css\" href=\"/gutenberg/new_nav.css\">\\n<link rel=\"stylesheet\" type=\"text/css\" href=\"/gutenberg/style.css\">\\n<script>//\\nvar canonical_url   = \"http://www.gutenberg.org/ebooks/1342?html.parser=\";\\nvar lang            = \"en\";\\nvar msg_load_more   = \"Load More Results…\";\\nvar page_mode       = \"screen\";\\nvar dialog_title    = \"\";\\nvar dialog_message  = \"\";\\n//</script>\\n<script src=\"/js/pg-desktop-one.js\"></script>\\n<link rel=\"shortcut icon\" href=\"/gutenberg/favicon.ico\">\\n<link rel=\"canonical\" href=\"http://www.gutenberg.org/ebooks/1342?html.parser=\">\\n<link rel=\"search\" type=\"application/opensearchdescription+xml\" title=\"Search Project Gutenberg\" href=\"https://www.gutenberg.org/catalog/osd-books.xml\">\\n<link rel=\"alternate nofollow\" type=\"application/atom+xml;profile=opds-catalog\" title=\"OPDS feed\" href=\"/ebooks/1342.opds?html.parser=\">\\n<link rel=\"apple-touch-icon\" href=\"/gutenberg/apple-icon.png\">\\n<meta name=\"viewport\" content=\"width=device-width\">\\n<meta http-equiv=\"Content-Type\" content=\"text/html; charset=UTF-8\">\\n<meta http-equiv=\"default-style\" content=\"text/css\">\\n<meta name=\"title\" content=\"Pride and Prejudice by Jane Austen\">\\n<meta name=\"description\" content=\"Free kindle book and epub digitized and proofread by Project Gutenberg.\">\\n<meta name=\"keywords\" content=\"ebook, ebooks, free ebooks, free books, book, books, audio books\">\\n<meta name=\"classification\" content=\"public\">\\n<meta property=\"og:title\" content=\"Pride and Prejudice by Jane Austen\">\\n<meta property=\"og:description\" content=\"Free kindle book and epub digitized and proofread by Project Gutenberg.\">\\n<meta property=\"og:type\" content=\"book\">\\n<meta property=\"og:image\" content=\"https://www.gutenberg.org/cache/epub/1342/pg1342.cover.medium.jpg\">\\n<meta property=\"og:url\" content=\"http://www.gutenberg.org/ebooks/1342?html.parser=\">\\n<meta property=\"og:site_name\" content=\"Project Gutenberg\">\\n<meta property=\"fb:app_id\" content=\"115319388529183\">\\n<meta name=\"twitter:card\" content=\"summary\">\\n<meta name=\"twitter:site\" content=\"@gutenberg_new\">\\n<meta name=\"twitter:image\" content=\"https://www.gutenberg.org/cache/epub/1342/pg1342.cover.medium.jpg\">\\n<meta name=\"twitter:image:alt\" content=\"book cover image\">\\n<title>Pride and Prejudice by Jane Austen - Free Ebook</title>\\n<link rel=\"alternate nofollow\" type=\"application/rdf+xml\" href=\"/ebooks/1342.rdf\">\\n<style>\\n.qrcode { background: transparent url(/cache/epub/1342/pg1342.qrcode.png) 0 0 no-repeat; }\\n</style>\\n<meta name=\"google\" content=\"notranslate\">\\n</head>\\n<body>\\n<div class=\"container\">\\n<nav>\\n<!--<div id=\"main_logo\"> -->\\n<a id=\"main_logo\" href=\"/\" class=\"no-hover\">\\n<img src=\"/gutenberg/pg-logo-129x80.png\" alt=\"Project Gutenberg\" draggable=\"false\">\\n</a>\\n<!--\\t</div>-->\\n<div id=\"menu\">\\n<label for=\"tm\" id=\"toggle-menu\">Menu<span class=\"drop-icon\">▾</span></label>\\n<input type=\"checkbox\" id=\"tm\">\\n<ul class=\"main-menu cf\">\\n<li>\\n<a href=\"/about/\">About\\n<span class=\"drop-icon\">▾</span>\\n</a>\\n<label title=\"Toggle Drop-down\" class=\"drop-icon\" for=\"sm0\">▾</label>\\n<input type=\"checkbox\" id=\"sm0\">\\n<ul class=\"sub-menu\">\\n<li><a href=\"/about/\">About Project Gutenberg</a></li>\\n<li><a href=\"/policy/collection_development.html\">Collection Development</a></li>\\n<li><a href=\"/about/contact_information.html\">Contact Us</a></li>\\n<li><a href=\"/about/background/\">History &amp; Philosophy</a></li>\\n<li><a href=\"/policy/permission.html\">Permissions &amp; License</a></li>\\n<li><a href=\"/policy/privacy_policy.html\">Privacy Policy</a></li>\\n<li><a href=\"/policy/terms_of_use.html\">Terms of Use</a></li>\\n</ul>\\n</li>\\n<li>\\n<a href=\"/ebooks/\">Search and Browse\\n<span class=\"drop-icon\">▾</span>\\n</a>\\n<label title=\"Toggle Drop-down\" class=\"drop-icon\" for=\"sm8\">▾</label>\\n<input type=\"checkbox\" id=\"sm8\">\\n<ul class=\"sub-menu\">\\n<li><a href=\"/ebooks/\">Book Search</a></li>\\n<li><a href=\"/ebooks/bookshelf/\">Bookshelves</a></li>\\n<li><a href=\"/browse/scores/top\">Frequently Downloaded</a></li>\\n<li><a href=\"/ebooks/offline_catalogs.html\">Offline Catalogs</a></li>\\n</ul>\\n</li>\\n<li>\\n<a href=\"/help/\">Help\\n<span class=\"drop-icon\">▾</span>\\n</a>\\n<label title=\"Toggle Drop-down\" class=\"drop-icon\" for=\"sm3\">▾</label>\\n<input type=\"checkbox\" id=\"sm3\">\\n<ul class=\"sub-menu\">\\n<li><a href=\"/help/\">All help topics →</a></li>\\n<li><a href=\"/help/copyright.html\">Copyright Procedures</a></li>\\n<li><a href=\"/help/errata.html\">Errata, Fixes and Bug Reports</a></li>\\n<li><a href=\"/help/file_formats.html\">File Formats</a></li>\\n<li><a href=\"/help/faq.html\">Frequently Asked Questions</a></li>\\n<li><a href=\"/policy/\">Policies →</a></li>\\n<li><a href=\"/help/public_domain_ebook_submission.html\">Public Domain eBook Submission</a></li>\\n<li><a href=\"/help/submitting_your_own_work.html\">Submitting Your Own Work</a></li>\\n<li><a href=\"/help/mobile.html\">Tablets, Phones and eReaders</a></li>\\n<li><a href=\"/attic/\">The Attic →</a></li>\\n</ul>\\n</li>\\n<li><a href=\"/donate/\">Donate</a></li>\\n</ul>\\n</div>\\n<div class=\"donate\">\\n<div class=\"searchbox\">\\n<form method=\"get\" action=\"/ebooks/search/\" accept-charset=\"utf-8\" enctype=\"multipart/form-data\" class=\"searchbox\">\\n<input type=\"text\" value=\"\" id=\"menu-book-search\" name=\"query\" class=\"searchInput\" title=\"Quick search\" tabindex=\"20\" size=\"20\" maxlength=\"80\" placeholder=\"  Quick search\">\\n<input type=\"submit\" name=\"submit_search\" value=\"Go!\" style=\"vertical-align:middle;\">\\n</form>\\n</div>\\n<form class=\"donatelink\" action=\"https://www.paypal.com/cgi-bin/webscr\" method=\"post\" target=\"new\">\\n<p><a href=\"/donate/\">Donation</a></p>\\n<input type=\"hidden\" name=\"cmd\" value=\"_s-xclick\">\\n<input type=\"hidden\" name=\"hosted_button_id\" value=\"XKAL6BZL3YPSN\">\\n<input class=\"donbtn\" type=\"image\" src=\"/pics/en_US.gif\" name=\"submit\" alt=\"Donate via PayPal\">\\n</form>\\n</div>\\n</nav>\\n<div class=\"page_content\" id=\"content\" itemscope=\"itemscope\" itemtype=\"http://schema.org/Book\">\\n<div class=\"breadcrumbs noprint\">\\n<ul>\\n<li class=\"breadcrumb first\" itemscope=\"itemscope\" itemtype=\"http://data-vocabulary.org/Breadcrumb\">\\n<span class=\"breadcrumb-separator\"></span>\\n<a href=\"/\" title=\"Go to the Main page.\" itemprop=\"url\"><span itemprop=\"title\">Project Gutenberg</span></a>\\n</li>\\n<li class=\"breadcrumb next\" itemscope=\"itemscope\" itemtype=\"http://data-vocabulary.org/Breadcrumb\">\\n<span class=\"breadcrumb-separator\"></span>\\n<a href=\"/ebooks/\" title=\"Start a new search.\" itemprop=\"url\"><span itemprop=\"title\">65,617 free ebooks</span></a>\\n</li>\\n<li class=\"breadcrumb next\" itemscope=\"itemscope\" itemtype=\"http://data-vocabulary.org/Breadcrumb\">\\n<span class=\"breadcrumb-separator\"></span>\\n<a href=\"/ebooks/author/68\" title=\"Find more ebooks by the same author.\" itemprop=\"url\"><span itemprop=\"title\">32 by Jane Austen</span></a>\\n</li>\\n</ul>\\n</div>\\n<h1 itemprop=\"name\">Pride and Prejudice by Jane Austen</h1>\\n<div class=\"page-body\">\\n<div property=\"dcterms:publisher\" itemprop=\"publisher\" content=\"Project Gutenberg\"></div>\\n<div itemprop=\"bookFormat\" content=\"EBook\"></div>\\n<div id=\"cover-social-wrapper\">\\n<div id=\"cover\">\\n<img class=\"cover-art\" src=\"https://www.gutenberg.org/cache/epub/1342/pg1342.cover.medium.jpg\" title=\"Book Cover\" alt=\"Book Cover\" itemprop=\"image\">\\n</div>\\n<div id=\"social\" class=\"noprint\">\\n<ul>\\n<li>\\n<!-- tweet without javascript -->\\n<div class=\"social-button twitter-share-button\">\\n<a href=\"https://twitter.com/share?url=http%3A%2F%2Fwww.gutenberg.org%2Febooks%2F1342%3Fhtml.parser%3D&amp;text=Pride%20and%20Prejudice%20by%20Jane%20Austen&amp;count=none&amp;lang=en&amp;related=gutenberg_new%3AProject%20Gutenberg%20New%20Books\" title=\"Share on Twitter\" onclick=\"open_share_popup(this.href, this.target, 640, 320)\" target=\"_top\">\\n<span class=\"icon icon_twitter\"></span>\\n</a>\\n</div>\\n</li>\\n<li>\\n<div class=\"social-button fb-share-button\">\\n<a href=\"https://www.facebook.com/sharer.php?u=http%3A%2F%2Fwww.gutenberg.org%2Febooks%2F1342%3Fhtml.parser%3D\" title=\"Share on Facebook\" onclick=\"open_share_popup(this.href, this.target, 640, 320)\" target=\"_top\">\\n<span class=\"icon icon_facebook\"></span>\\n</a>\\n</div>\\n</li>\\n<li>\\n<a onclick=\"printpage()\" title=\"Print this page\"><span class=\"icon icon_print\"></span></a>\\n</li>\\n</ul>\\n</div>\\n<div id=\"qr\">\\n<span class=\"qrcode qrcode-desktop\" title=\"Scan QR Code for this page.\"></span>\\n</div>\\n</div>\\n<div id=\"tabs-wrapper\">\\n<div id=\"tabs\">\\n<div id=\"download\">\\n<div about=\"[ebook:1342]\" rel=\"dcterms:hasFormat\">\\n<h2>Download This eBook</h2>\\n<table class=\"files\">\\n<colgroup>\\n<col class=\"narrow\">\\n<col>\\n<col>\\n<col>\\n<col class=\"narrow noprint\">\\n<col class=\"narrow noprint\">\\n<col class=\"narrow noprint\">\\n</colgroup>\\n<tr>\\n<th></th>\\n<th>Format <span>\\n<a href=\"/help/bibliographic_record.html#Format\" title=\"Explain Format.\"><span class=\"icon icon_help noprint\"></span></a>\\n</span></th>\\n<th class=\"noscreen\">Url</th>\\n<th class=\"right\">Size</th>\\n<th class=\"noprint\"><span>\\n<a href=\"/help/bibliographic_record.html#Dropbox\" title=\"Explain Dropbox.\"><span class=\"icon icon_help noprint\"></span></a>\\n</span></th>\\n<th class=\"noprint\"><span>\\n<a href=\"/help/bibliographic_record.html#Google_Drive\" title=\"Explain Google Drive.\"><span class=\"icon icon_help noprint\"></span></a>\\n</span></th>\\n<th class=\"noprint\"><span>\\n<a href=\"/help/bibliographic_record.html#OneDrive\" title=\"Explain OneDrive.\"><span class=\"icon icon_help noprint\"></span></a>\\n</span></th>\\n</tr>\\n<tr class=\"even\" about=\"https://www.gutenberg.org/files/1342/1342-h/1342-h.htm\" typeof=\"pgterms:file\">\\n<td><span class=\"icon icon_book\"></span></td>\\n<td property=\"dcterms:format\" content=\"text/html; charset=utf-8\" datatype=\"dcterms:IMT\" class=\"unpadded icon_save\"><a href=\"/files/1342/1342-h/1342-h.htm\" type=\"text/html; charset=utf-8\" class=\"link\" title=\"Download\">Read this book online: HTML</a></td>\\n<td class=\"noscreen\">https://www.gutenberg.org/files/1342/1342-h/1342-h.htm</td>\\n<td class=\"right\" property=\"dcterms:extent\" content=\"864413\">844\\xa0kB</td>\\n<td class=\"noprint\">\\n</td>\\n<td class=\"noprint\">\\n</td>\\n<td class=\"noprint\">\\n</td>\\n</tr><tr class=\"even\" about=\"https://www.gutenberg.org/ebooks/1342.epub.images\" typeof=\"pgterms:file\">\\n<td><span class=\"icon icon_book\"></span></td>\\n<td property=\"dcterms:format\" content=\"application/epub+zip\" datatype=\"dcterms:IMT\" class=\"unpadded icon_save\"><a href=\"/ebooks/1342.epub.images?session_id=bc9ff9134ed31650a69ee5bf2e02216414f9c8a6\" type=\"application/epub+zip\" class=\"link\" title=\"Download\">EPUB (with images)</a></td>\\n<td class=\"noscreen\">https://www.gutenberg.org/ebooks/1342.epub.images</td>\\n<td class=\"right\" property=\"dcterms:extent\" content=\"581101\">567\\xa0kB</td>\\n<td class=\"noprint\">\\n<a href=\"/ebooks/send/dropbox/1342.epub.images\" title=\"Send to Dropbox.\" rel=\"nofollow\"><span class=\"icon icon_dropbox\"></span></a>\\n</td>\\n<td class=\"noprint\">\\n<a href=\"/ebooks/send/gdrive/1342.epub.images\" title=\"Send to Google Drive.\" rel=\"nofollow\"><span class=\"icon icon_gdrive\"></span></a>\\n</td>\\n<td class=\"noprint\">\\n<a href=\"/ebooks/send/msdrive/1342.epub.images\" title=\"Send to OneDrive.\" rel=\"nofollow\"><span class=\"icon icon_msdrive\"></span></a>\\n</td>\\n</tr><tr class=\"odd\" about=\"https://www.gutenberg.org/ebooks/1342.epub.noimages\" typeof=\"pgterms:file\">\\n<td><span class=\"icon icon_book\"></span></td>\\n<td property=\"dcterms:format\" content=\"application/epub+zip\" datatype=\"dcterms:IMT\" class=\"unpadded icon_save\"><a href=\"/ebooks/1342.epub.noimages?session_id=bc9ff9134ed31650a69ee5bf2e02216414f9c8a6\" type=\"application/epub+zip\" class=\"link\" title=\"Download\">EPUB (no images)</a></td>\\n<td class=\"noscreen\">https://www.gutenberg.org/ebooks/1342.epub.noimages</td>\\n<td class=\"right\" property=\"dcterms:extent\" content=\"420423\">411\\xa0kB</td>\\n<td class=\"noprint\">\\n<a href=\"/ebooks/send/dropbox/1342.epub.noimages\" title=\"Send to Dropbox.\" rel=\"nofollow\"><span class=\"icon icon_dropbox\"></span></a>\\n</td>\\n<td class=\"noprint\">\\n<a href=\"/ebooks/send/gdrive/1342.epub.noimages\" title=\"Send to Google Drive.\" rel=\"nofollow\"><span class=\"icon icon_gdrive\"></span></a>\\n</td>\\n<td class=\"noprint\">\\n<a href=\"/ebooks/send/msdrive/1342.epub.noimages\" title=\"Send to OneDrive.\" rel=\"nofollow\"><span class=\"icon icon_msdrive\"></span></a>\\n</td>\\n</tr><tr class=\"even\" about=\"https://www.gutenberg.org/ebooks/1342.kindle.images\" typeof=\"pgterms:file\">\\n<td><span class=\"icon icon_book\"></span></td>\\n<td property=\"dcterms:format\" content=\"application/x-mobipocket-ebook\" datatype=\"dcterms:IMT\" class=\"unpadded icon_save\"><a href=\"/ebooks/1342.kindle.images?session_id=bc9ff9134ed31650a69ee5bf2e02216414f9c8a6\" type=\"application/x-mobipocket-ebook\" class=\"link\" title=\"Download\">Kindle (with images)</a></td>\\n<td class=\"noscreen\">https://www.gutenberg.org/ebooks/1342.kindle.images</td>\\n<td class=\"right\" property=\"dcterms:extent\" content=\"1898842\">1.8\\xa0MB</td>\\n<td class=\"noprint\">\\n<a href=\"/ebooks/send/dropbox/1342.kindle.images\" title=\"Send to Dropbox.\" rel=\"nofollow\"><span class=\"icon icon_dropbox\"></span></a>\\n</td>\\n<td class=\"noprint\">\\n<a href=\"/ebooks/send/gdrive/1342.kindle.images\" title=\"Send to Google Drive.\" rel=\"nofollow\"><span class=\"icon icon_gdrive\"></span></a>\\n</td>\\n<td class=\"noprint\">\\n<a href=\"/ebooks/send/msdrive/1342.kindle.images\" title=\"Send to OneDrive.\" rel=\"nofollow\"><span class=\"icon icon_msdrive\"></span></a>\\n</td>\\n</tr><tr class=\"odd\" about=\"https://www.gutenberg.org/ebooks/1342.kindle.noimages\" typeof=\"pgterms:file\">\\n<td><span class=\"icon icon_book\"></span></td>\\n<td property=\"dcterms:format\" content=\"application/x-mobipocket-ebook\" datatype=\"dcterms:IMT\" class=\"unpadded icon_save\"><a href=\"/ebooks/1342.kindle.noimages?session_id=bc9ff9134ed31650a69ee5bf2e02216414f9c8a6\" type=\"application/x-mobipocket-ebook\" class=\"link\" title=\"Download\">Kindle (no images)</a></td>\\n<td class=\"noscreen\">https://www.gutenberg.org/ebooks/1342.kindle.noimages</td>\\n<td class=\"right\" property=\"dcterms:extent\" content=\"1466283\">1.4\\xa0MB</td>\\n<td class=\"noprint\">\\n<a href=\"/ebooks/send/dropbox/1342.kindle.noimages\" title=\"Send to Dropbox.\" rel=\"nofollow\"><span class=\"icon icon_dropbox\"></span></a>\\n</td>\\n<td class=\"noprint\">\\n<a href=\"/ebooks/send/gdrive/1342.kindle.noimages\" title=\"Send to Google Drive.\" rel=\"nofollow\"><span class=\"icon icon_gdrive\"></span></a>\\n</td>\\n<td class=\"noprint\">\\n<a href=\"/ebooks/send/msdrive/1342.kindle.noimages\" title=\"Send to OneDrive.\" rel=\"nofollow\"><span class=\"icon icon_msdrive\"></span></a>\\n</td>\\n</tr><tr class=\"even\" about=\"https://www.gutenberg.org/files/1342/1342-0.txt\" typeof=\"pgterms:file\">\\n<td><span class=\"icon icon_book\"></span></td>\\n<td property=\"dcterms:format\" content=\"text/plain; charset=utf-8\" datatype=\"dcterms:IMT\" class=\"unpadded icon_save\"><a href=\"/files/1342/1342-0.txt\" type=\"text/plain; charset=utf-8\" class=\"link\" title=\"Download\">Plain Text UTF-8</a></td>\\n<td class=\"noscreen\">https://www.gutenberg.org/files/1342/1342-0.txt</td>\\n<td class=\"right\" property=\"dcterms:extent\" content=\"799645\">781\\xa0kB</td>\\n<td class=\"noprint\">\\n</td>\\n<td class=\"noprint\">\\n</td>\\n<td class=\"noprint\">\\n</td>\\n</tr>\\n<tr class=\"even\">\\n<td><span class=\"icon icon_folder\"></span></td>\\n<td class=\"unpadded icon_file\"><a href=\"/files/1342/\" class=\"link\">More Files…</a></td>\\n<td class=\"noscreen\">https://www.gutenberg.org/files/1342/</td>\\n<td></td>\\n<td class=\"noprint\"></td>\\n<td class=\"noprint\"></td>\\n<td class=\"noprint\"></td>\\n</tr>\\n</table>\\n</div>\\n</div> <!-- download -->\\n<div id=\"more_stuff\">\\n<h2 class=\"header\">Similar Books</h2>\\n<div class=\"noprint navlink grayed\">\\n<a rel=\"nofollow\" href=\"/ebooks/1342/also/\" accesskey=\"1\">\\n<span class=\"cell leftcell\">\\n<span class=\"icon icon_suggestion\"></span>\\n</span>\\n<span class=\"cell content\">\\n<span class=\"title\">Readers also downloaded…</span>\\n</span>\\n<span class=\"hstrut\"></span>\\n</a>\\n</div>\\n<div class=\"navlink grayed\">\\n<a rel=\"nofollow\" href=\"/ebooks/bookshelf/13\" accesskey=\"2\">\\n<span class=\"cell leftcell\">\\n<span class=\"icon icon_bookshelf\"></span>\\n</span>\\n<span class=\"cell content\">\\n<span class=\"title\">In Best Books Ever Listings</span>\\n</span>\\n<span class=\"hstrut\"></span>\\n</a>\\n</div>\\n<div class=\"navlink grayed\">\\n<a rel=\"nofollow\" href=\"/ebooks/bookshelf/40\" accesskey=\"3\">\\n<span class=\"cell leftcell\">\\n<span class=\"icon icon_bookshelf\"></span>\\n</span>\\n<span class=\"cell content\">\\n<span class=\"title\">In Harvard Classics</span>\\n</span>\\n<span class=\"hstrut\"></span>\\n</a>\\n</div>\\n</div> <!-- more stuff -->\\n<div id=\"bibrec\">\\n<div typeof=\"pgterms:ebook\" about=\"[ebook:1342]\">\\n<h2>Bibliographic Record <span>\\n<a href=\"/help/bibliographic_record.html#Table:_Bibliographic_Record\" title=\"Explain Table: Bibliographic Record.\"><span class=\"icon icon_help noprint\"></span></a>\\n</span></h2>\\n<table class=\"bibrec\">\\n<colgroup>\\n<col class=\"narrow\">\\n<col>\\n</colgroup>\\n<tr>\\n<th>Author</th>\\n<td>\\n<a href=\"/ebooks/author/68\" rel=\"marcrel:aut\" about=\"/authors/68\" typeof=\"pgterms:agent\" itemprop=\"creator\">Austen, Jane, 1775-1817</a></td>\\n</tr>\\n<tr>\\n<th>Title</th>\\n<td itemprop=\"headline\">\\nPride and Prejudice\\n</td>\\n</tr><tr>\\n<th>Note</th>\\n<td>\\nhttps:<a href=\"//en.wikipedia.org/wiki/Pride_and_Prejudice\">//en.wikipedia.org/wiki/Pride_and_Prejudice</a>\\n</td>\\n</tr><tr>\\n<th>Note</th>\\n<td>\\nThis title is also available as https:<a href=\"//www.gutenberg.org/ebooks/42671\">//www.gutenberg.org/ebooks/42671</a>\\n</td>\\n</tr><tr>\\n<th>Note</th>\\n<td>\\nThere is an improved edition of this title, eBook <a href=\"/ebooks/42671\">#42671</a>\\n</td>\\n</tr>\\n<tr property=\"dcterms:language\" datatype=\"dcterms:RFC4646\" itemprop=\"inLanguage\" content=\"en\">\\n<th>Language</th>\\n<td>English</td>\\n</tr>\\n<tr property=\"dcterms:subject\" datatype=\"dcterms:LCC\" content=\"PR\">\\n<th>LoC Class</th>\\n<td>\\n<a href=\"/browse/loccs/pr\">PR: Language and Literatures: English literature</a>\\n</td>\\n</tr>\\n<tr>\\n<th>Subject</th>\\n<td property=\"dcterms:subject\" datatype=\"dcterms:LCSH\">\\n<a class=\"block\" href=\"/ebooks/subject/1702\">\\nEngland -- Fiction\\n</a>\\n</td>\\n</tr><tr>\\n<th>Subject</th>\\n<td property=\"dcterms:subject\" datatype=\"dcterms:LCSH\">\\n<a class=\"block\" href=\"/ebooks/subject/2481\">\\nYoung women -- Fiction\\n</a>\\n</td>\\n</tr><tr>\\n<th>Subject</th>\\n<td property=\"dcterms:subject\" datatype=\"dcterms:LCSH\">\\n<a class=\"block\" href=\"/ebooks/subject/2487\">\\nLove stories\\n</a>\\n</td>\\n</tr><tr>\\n<th>Subject</th>\\n<td property=\"dcterms:subject\" datatype=\"dcterms:LCSH\">\\n<a class=\"block\" href=\"/ebooks/subject/2489\">\\nSisters -- Fiction\\n</a>\\n</td>\\n</tr><tr>\\n<th>Subject</th>\\n<td property=\"dcterms:subject\" datatype=\"dcterms:LCSH\">\\n<a class=\"block\" href=\"/ebooks/subject/2514\">\\nDomestic fiction\\n</a>\\n</td>\\n</tr><tr>\\n<th>Subject</th>\\n<td property=\"dcterms:subject\" datatype=\"dcterms:LCSH\">\\n<a class=\"block\" href=\"/ebooks/subject/2578\">\\nCourtship -- Fiction\\n</a>\\n</td>\\n</tr><tr>\\n<th>Subject</th>\\n<td property=\"dcterms:subject\" datatype=\"dcterms:LCSH\">\\n<a class=\"block\" href=\"/ebooks/subject/2906\">\\nSocial classes -- Fiction\\n</a>\\n</td>\\n</tr>\\n<tr>\\n<th>Category</th>\\n<td property=\"dcterms:type\" datatype=\"dcterms:DCMIType\">Text</td>\\n</tr>\\n<tr>\\n<th>EBook-No.</th>\\n<td>1342</td>\\n</tr>\\n<tr property=\"dcterms:issued\" datatype=\"xsd:date\" content=\"1998-06-01T00:00:00+00:00\">\\n<th>Release Date</th>\\n<td itemprop=\"datePublished\">Jun 1, 1998</td>\\n</tr>\\n<tr>\\n<th>Copyright Status</th>\\n<td property=\"dcterms:rights\">Public domain in the USA.</td>\\n</tr>\\n<tr>\\n<th>Downloads</th>\\n<td itemprop=\"interactionCount\">43903 downloads in the last 30 days.</td>\\n</tr>\\n<tr itemprop=\"offers\" itemscope=\"itemscope\" itemtype=\"http://schema.org/Offer\">\\n<th>Price</th>\\n<td><span itemprop=\"priceCurrency\" content=\"USD\"></span><span itemprop=\"price\">$0.00</span><span itemprop=\"availability\" content=\"In Stock\"><a href=\"http://schema.org/InStock\"></a></span></td>\\n</tr>\\n</table>\\n</div>\\n</div>\\n</div>\\n</div>\\n</div>\\n</div>\\n<div id=\"dialog\" class=\"hidden\">\\n</div>\\n</div>\\n<div class=\"footer\">\\n<div>\\n<ul>\\n<li>\\n<a href=\"/policy/privacy_policy.html\" title=\"Privacy Policy\">Privacy policy</a>\\n</li>\\n<li>\\n<a href=\"/about/\" title=\"About Project Gutenberg\">About Project Gutenberg</a>\\n</li>\\n<li>\\n<a href=\"/policy/terms_of_use.html\" title=\"Terms of Use\">Terms of Use</a>\\n</li>\\n<li>\\n<a href=\"/about/contact_information.html\" title=\"Contact Information\">Contact Information</a>\\n</li>\\n<li><a href=\"/help/\" title=\"Get Help\">Get Help</a></li>\\n</ul>\\n<a href=\"https://www.ibiblio.org/\" title=\"Project Gutenberg is hosted by ibiblio\">\\n<img src=\"/gutenberg/ibiblio-logo.png\" alt=\"iBiblio\">\\n</a>\\n</div>\\n</div>\\n</body>\\n</html>']"
      ]
     },
     "execution_count": 79,
     "metadata": {},
     "output_type": "execute_result"
    }
   ],
   "source": [
    "[requests.get(url, 'html.parser').text for url in urls[:1]]"
   ]
  },
  {
   "cell_type": "code",
   "execution_count": null,
   "id": "90011052-e610-4890-88cf-ff973a678f38",
   "metadata": {},
   "outputs": [],
   "source": []
  }
 ],
 "metadata": {
  "kernelspec": {
   "display_name": "gutenberg",
   "language": "python",
   "name": "gutenberg"
  },
  "language_info": {
   "codemirror_mode": {
    "name": "ipython",
    "version": 3
   },
   "file_extension": ".py",
   "mimetype": "text/x-python",
   "name": "python",
   "nbconvert_exporter": "python",
   "pygments_lexer": "ipython3",
   "version": "3.7.4"
  }
 },
 "nbformat": 4,
 "nbformat_minor": 5
}
