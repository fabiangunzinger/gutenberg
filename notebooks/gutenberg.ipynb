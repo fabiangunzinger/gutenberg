{
 "cells": [
  {
   "cell_type": "markdown",
   "id": "996e6bc6-e1b1-4b82-962e-141b722451ea",
   "metadata": {},
   "source": [
    "The plan:\n",
    "\n",
    "- Scrape books from [Project Gutenberg](https://www.gutenberg.org/browse/scores/top)\n",
    "\n",
    "- Clean and preprocess\n",
    "\n",
    "- Do basic NLP analysis using [TextBlob](https://textblob.readthedocs.io/en/dev/)\n",
    "\n",
    "Useful links and sources:\n",
    "\n",
    "- [Gutenberg api](https://github.com/c-w/gutenberg)\n",
    "\n",
    "- [Scrape, clean, and normalize Gutenberg texts](https://shravan-kuchkula.github.io/scrape_clean_normalize_gutenberg_text/#)\n",
    "\n",
    "- Think Python chapter 13"
   ]
  },
  {
   "cell_type": "markdown",
   "id": "56f008cb-06bf-43a0-8514-dae3125615ad",
   "metadata": {},
   "source": [
    "# Scrape books from Project Gutenberg"
   ]
  },
  {
   "cell_type": "code",
   "execution_count": null,
   "id": "0ac202ff-f436-47d9-8d3a-86ac15bab5da",
   "metadata": {},
   "outputs": [],
   "source": []
  }
 ],
 "metadata": {
  "kernelspec": {
   "display_name": "gutenberg",
   "language": "python",
   "name": "gutenberg"
  },
  "language_info": {
   "codemirror_mode": {
    "name": "ipython",
    "version": 3
   },
   "file_extension": ".py",
   "mimetype": "text/x-python",
   "name": "python",
   "nbconvert_exporter": "python",
   "pygments_lexer": "ipython3",
   "version": "3.7.4"
  }
 },
 "nbformat": 4,
 "nbformat_minor": 5
}
